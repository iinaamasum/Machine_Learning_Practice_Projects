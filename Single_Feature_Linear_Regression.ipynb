{
  "nbformat": 4,
  "nbformat_minor": 0,
  "metadata": {
    "colab": {
      "provenance": [],
      "authorship_tag": "ABX9TyMtOlxrtzbavpY9S9aOl6iS",
      "include_colab_link": true
    },
    "kernelspec": {
      "name": "python3",
      "display_name": "Python 3"
    },
    "language_info": {
      "name": "python"
    }
  },
  "cells": [
    {
      "cell_type": "markdown",
      "metadata": {
        "id": "view-in-github",
        "colab_type": "text"
      },
      "source": [
        "<a href=\"https://colab.research.google.com/github/iinaamasum/Machine_Learning_Practice_Projects/blob/main/Single_Feature_Linear_Regression.ipynb\" target=\"_parent\"><img src=\"https://colab.research.google.com/assets/colab-badge.svg\" alt=\"Open In Colab\"/></a>"
      ]
    },
    {
      "cell_type": "markdown",
      "source": [
        "All imports"
      ],
      "metadata": {
        "id": "-nBXQZ09iZck"
      }
    },
    {
      "cell_type": "code",
      "source": [
        "import numpy as np\n",
        "from matplotlib import pyplot as plt\n",
        "from random import randint, choice"
      ],
      "metadata": {
        "id": "HwDrJ9Kxib7s"
      },
      "execution_count": 36,
      "outputs": []
    },
    {
      "cell_type": "markdown",
      "source": [
        "Sample Data"
      ],
      "metadata": {
        "id": "mgqk4gsmjbD2"
      }
    },
    {
      "cell_type": "code",
      "source": [
        "x_list, y_list = [], []\n",
        "for _ in range(100):\n",
        "    val = randint(0, 100)\n",
        "    x_list.append(val)\n",
        "    y_list.append(choice([val**2, val**1.8, val**2.2, val**2.1]))\n",
        "x = np.array(x_list)\n",
        "y = np.array(y_list)\n",
        "# Printing the random values assigned in x and y\n",
        "print(f\"X: {x}\")\n",
        "print(f\"Y: {y}\")"
      ],
      "metadata": {
        "colab": {
          "base_uri": "https://localhost:8080/"
        },
        "id": "qb8qx7WZjeKE",
        "outputId": "ea1748ec-91e0-4ad0-8af2-60fb794813c9"
      },
      "execution_count": 46,
      "outputs": [
        {
          "output_type": "stream",
          "name": "stdout",
          "text": [
            "X: [ 65  14  82  17  36  94   6  46  52  10   0  37  46  84  78  98  74   3\n",
            "   4  65  36  34  38  56  63  60  85  28  24  61   1  61  51  49  48  81\n",
            "  66  78  45  42  70  14  46  46   7  60  51  55  16  78  71  46  37   5\n",
            "  35   3  80  92  20  15  24  69  68  33  33  75  59  95  82  30 100   9\n",
            "  81  91  84  25  51  69  26  18  30   8  39  46  49  58  24  58  23   4\n",
            "  67  11  87  79   0   0  79  77  72  44]\n",
            "Y: [6.41383892e+03 1.15619334e+02 1.62326893e+04 3.83656654e+02\n",
            " 2.65378357e+03 2.19220558e+04 5.15148869e+01 2.11600000e+03\n",
            " 4.01427408e+03 6.30957344e+01 0.00000000e+00 1.36900000e+03\n",
            " 9.83929761e+02 1.71164789e+04 2.54548349e+03 9.60400000e+03\n",
            " 5.47600000e+03 7.22467406e+00 2.11121266e+01 1.83334434e+03\n",
            " 1.85453593e+03 2.34020346e+03 6.97606428e+02 4.69023774e+03\n",
            " 9.08969286e+03 5.42147708e+03 2.97135175e+03 1.09403664e+03\n",
            " 1.08758881e+03 8.46692352e+03 1.00000000e+00 8.46692352e+03\n",
            " 1.18474891e+03 1.10243488e+03 3.39317766e+03 6.56100000e+03\n",
            " 4.35600000e+03 9.40586337e+03 2.96309980e+03 8.35312004e+02\n",
            " 7.49386533e+03 3.32262768e+02 2.11600000e+03 9.83929761e+02\n",
            " 4.90000000e+01 5.42147708e+03 2.60100000e+03 4.51608022e+03\n",
            " 3.37794025e+02 1.45414638e+04 5.04100000e+03 3.10306910e+03\n",
            " 2.81866714e+03 2.93654736e+01 1.74800590e+03 1.12115785e+01\n",
            " 1.53743928e+04 1.33031485e+04 5.39713139e+02 2.25000000e+02\n",
            " 7.91486675e+02 2.04140119e+03 7.05129228e+03 1.54482495e+03\n",
            " 5.41159257e+02 2.37197591e+03 5.23346380e+03 2.24384024e+04\n",
            " 2.78525482e+03 4.55846116e+02 2.51188643e+04 5.21959152e+01\n",
            " 6.56100000e+03 8.28100000e+03 1.09897168e+04 3.28315976e+02\n",
            " 1.18474891e+03 1.11037072e+04 9.36362539e+02 4.32585801e+02\n",
            " 1.77691544e+03 4.22242531e+01 7.30998175e+02 3.10306910e+03\n",
            " 3.54333136e+03 3.36400000e+03 5.76000000e+02 5.04892345e+03\n",
            " 7.23816461e+02 1.21257325e+01 1.93613058e+03 1.95462706e+02\n",
            " 3.09837982e+03 1.49547653e+04 0.00000000e+00 0.00000000e+00\n",
            " 9.66088454e+03 9.15441345e+03 7.95056958e+03 1.93600000e+03]\n"
          ]
        }
      ]
    },
    {
      "cell_type": "markdown",
      "source": [
        "Ploting x and y scatter graph"
      ],
      "metadata": {
        "id": "tZuGUQ1JmIHc"
      }
    },
    {
      "cell_type": "code",
      "source": [
        "plt.scatter(x, y, color = 'r', marker = 'o')\n",
        "plt.xlabel(\"Values of X\")\n",
        "plt.ylabel(\"Values of Y\")\n",
        "plt.show()"
      ],
      "metadata": {
        "colab": {
          "base_uri": "https://localhost:8080/",
          "height": 279
        },
        "id": "5R2pU-rAme40",
        "outputId": "aa4e0b38-538d-494d-c14d-dd26eaa3b715"
      },
      "execution_count": 47,
      "outputs": [
        {
          "output_type": "display_data",
          "data": {
            "text/plain": [
              "<Figure size 432x288 with 1 Axes>"
            ],
            "image/png": "[encoded data removed]"
          },
          "metadata": {
            "needs_background": "light"
          }
        }
      ]
    },
    {
      "cell_type": "markdown",
      "source": [
        "Finding intersect and coefficient using mean value.\n",
        "function = wx + c"
      ],
      "metadata": {
        "id": "1D_j9AqGo8C3"
      }
    },
    {
      "cell_type": "code",
      "source": [
        "x_mean = np.mean(x)\n",
        "y_mean = np.mean(y)\n",
        "print(\"Mean X:\", x_mean, \"Y:\", y_mean)"
      ],
      "metadata": {
        "colab": {
          "base_uri": "https://localhost:8080/"
        },
        "id": "uMUJLx7GpPY1",
        "outputId": "9ce1c51f-ab5c-4118-fc54-b6d4676cdb2a"
      },
      "execution_count": 48,
      "outputs": [
        {
          "output_type": "stream",
          "name": "stdout",
          "text": [
            "Mean X: 47.42 Y: 4275.443770350859\n"
          ]
        }
      ]
    },
    {
      "cell_type": "code",
      "source": [
        "feature_size = len(x)\n",
        "numerator = np.sum(np.dot(x, y)) - feature_size * x_mean * y_mean\n",
        "denominator = np.sum(np.dot(x, x)) - feature_size * x_mean * x_mean\n",
        "print(\"Numerator: \", numerator, \"Denominator: \", denominator)"
      ],
      "metadata": {
        "colab": {
          "base_uri": "https://localhost:8080/"
        },
        "id": "fSrXlTMrplRu",
        "outputId": "c16eddf8-3700-47f2-e635-02ae7cb46df2"
      },
      "execution_count": 49,
      "outputs": [
        {
          "output_type": "stream",
          "name": "stdout",
          "text": [
            "Numerator:  11251153.380415898 Denominator:  77974.35999999999\n"
          ]
        }
      ]
    },
    {
      "cell_type": "code",
      "source": [
        "# coefficient and intersect\n",
        "w = numerator / denominator\n",
        "c = y_mean - w * x_mean\n",
        "print(\"Coefficient: \", w, \"Intersect: \", c)"
      ],
      "metadata": {
        "colab": {
          "base_uri": "https://localhost:8080/"
        },
        "id": "Uznhr0PjrAVB",
        "outputId": "2fcf00b6-b72b-4be9-f9fe-32a7abab956b"
      },
      "execution_count": 41,
      "outputs": [
        {
          "output_type": "stream",
          "name": "stdout",
          "text": [
            "Coefficient:  136.13541793714836 Intersect:  -2292.305189851485\n"
          ]
        }
      ]
    },
    {
      "cell_type": "markdown",
      "source": [
        "Predict the value."
      ],
      "metadata": {
        "id": "i08Id3iAsNvO"
      }
    },
    {
      "cell_type": "code",
      "source": [
        "# convert x(int array) to float array\n",
        "x = x.astype(np.float32)\n",
        "# prediction\n",
        "y_predicted = w * x + c\n",
        "plt.plot(x, y_predicted, color= 'g')\n",
        "plt.scatter(x, y, color = 'r', marker = 'o')\n",
        "plt.xlabel(\"Values of X\")\n",
        "plt.ylabel(\"Values of Y\")\n",
        "plt.show()"
      ],
      "metadata": {
        "colab": {
          "base_uri": "https://localhost:8080/",
          "height": 279
        },
        "id": "iKreL2UVsVP0",
        "outputId": "9d819c70-0729-46d0-f198-2e0f169bed38"
      },
      "execution_count": 52,
      "outputs": [
        {
          "output_type": "display_data",
          "data": {
            "text/plain": [
              "<Figure size 432x288 with 1 Axes>"
            ],
            "image/png": "[encoded data removed]"
          },
          "metadata": {
            "needs_background": "light"
          }
        }
      ]
    },
    {
      "cell_type": "code",
      "source": [
        "# random test\n",
        "x_random = float(input(\"Enter a number: \"))"
      ],
      "metadata": {
        "colab": {
          "base_uri": "https://localhost:8080/"
        },
        "id": "2m8aZRt4tZgH",
        "outputId": "e2c7a01d-b01f-4475-cded-8343b3c7a8cc"
      },
      "execution_count": 55,
      "outputs": [
        {
          "name": "stdout",
          "output_type": "stream",
          "text": [
            "Enter a number: 20\n"
          ]
        }
      ]
    },
    {
      "cell_type": "code",
      "source": [
        "# Predinction for random values\n",
        "y_random_prediction = w * x_random + c\n",
        "print(\"The prediction is: \", y_random_prediction, \"for x = \", x_random)"
      ],
      "metadata": {
        "colab": {
          "base_uri": "https://localhost:8080/"
        },
        "id": "TysfHWx_vECo",
        "outputId": "583c25e9-9083-4dfe-ed90-c46ba6cb0255"
      },
      "execution_count": 57,
      "outputs": [
        {
          "output_type": "stream",
          "name": "stdout",
          "text": [
            "The prediction is:  430.403168891482 for x =  20.0\n"
          ]
        }
      ]
    }
  ]
}