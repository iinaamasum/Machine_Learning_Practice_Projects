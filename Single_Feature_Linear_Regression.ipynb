{
  "nbformat": 4,
  "nbformat_minor": 0,
  "metadata": {
    "colab": {
      "provenance": [],
      "authorship_tag": "ABX9TyPT6hpgYN50MmANk4O8V6Ee",
      "include_colab_link": true
    },
    "kernelspec": {
      "name": "python3",
      "display_name": "Python 3"
    },
    "language_info": {
      "name": "python"
    }
  },
  "cells": [
    {
      "cell_type": "markdown",
      "metadata": {
        "id": "view-in-github",
        "colab_type": "text"
      },
      "source": [
        "<a href=\"https://colab.research.google.com/github/iinaamasum/Machine_Learning_Practice_Projects/blob/main/Single_Feature_Linear_Regression.ipynb\" target=\"_parent\"><img src=\"https://colab.research.google.com/assets/colab-badge.svg\" alt=\"Open In Colab\"/></a>"
      ]
    },
    {
      "cell_type": "markdown",
      "source": [
        "All imports"
      ],
      "metadata": {
        "id": "-nBXQZ09iZck"
      }
    },
    {
      "cell_type": "code",
      "source": [
        "import numpy as np\n",
        "from matplotlib import pyplot as plt\n",
        "from random import randint, choice, random"
      ],
      "metadata": {
        "id": "HwDrJ9Kxib7s"
      },
      "execution_count": 1,
      "outputs": []
    },
    {
      "cell_type": "markdown",
      "source": [
        "Sample Data"
      ],
      "metadata": {
        "id": "mgqk4gsmjbD2"
      }
    },
    {
      "cell_type": "code",
      "source": [
        "x_list, y_list = [], []\n",
        "for _ in range(100):\n",
        "    val = randint(0, 100)\n",
        "    x_list.append(val)\n",
        "    y_list.append(choice([2*val + 10*random(), 2*val - 10*random()]))\n",
        "x = np.array(x_list)\n",
        "y = np.array(y_list)\n",
        "# Printing the random values assigned in x and y\n",
        "print(f\"X: {x}\")\n",
        "print(f\"Y: {y}\")"
      ],
      "metadata": {
        "colab": {
          "base_uri": "https://localhost:8080/"
        },
        "id": "qb8qx7WZjeKE",
        "outputId": "096a4d13-b1c4-41e2-a256-34aae0d3dcea"
      },
      "execution_count": 12,
      "outputs": [
        {
          "output_type": "stream",
          "name": "stdout",
          "text": [
            "X: [ 40  10  55  73  50  48  10  52  26  55  28  26  38  47  68  46  22  51\n",
            "  87  81  87  70  92   3  62  38  62  21  47  95  13  47  75  89  72  30\n",
            "  89  76  36  58  66  57  44  42  96 100  74  11  52  69  85  49  64  20\n",
            "  27  18  92  86  60  33  59  97  14  98  71  92  88   5  77  95  69  10\n",
            "  46  33  15  39  80  95  85  19  86  26  47  72  42  52  83  63  29  47\n",
            "  82  82  25  83 100  87  46  94  68  49]\n",
            "Y: [ 88.36426677  23.27553534 111.83256815 141.73577042 109.54799842\n",
            "  99.89408798  10.96958305 100.7276455   58.70682982 111.47634515\n",
            "  56.88211412  51.59232422  77.49198172  92.08429578 127.55993066\n",
            "  90.40278283  45.40568968  95.9527862  166.38751362 153.94220175\n",
            " 167.71398501 140.74943731 190.91569384  15.81504693 115.63191315\n",
            "  74.33465262 130.93677363  44.23756204  87.38269985 187.93755671\n",
            "  26.09538127  90.28819852 150.42775172 181.52846718 143.07545862\n",
            "  58.93592747 175.18492624 149.44893167  64.30469019 109.21972842\n",
            " 122.91088005 110.83783812  90.30534389  78.87033012 189.38994459\n",
            " 208.03664347 156.71479644  23.3265126   98.06526525 135.17568245\n",
            " 164.06538645  97.9433295  127.95617379  49.15659553  57.63595282\n",
            "  26.1566794  181.78763299 168.41822992 110.38416332  57.79646991\n",
            " 127.87210879 192.97684717  33.45121242 196.66632042 140.15080223\n",
            " 189.59059995 173.26966779   9.07813757 151.49901808 189.87336281\n",
            " 140.93531343  16.59248667  82.16292602  74.91138699  30.4485261\n",
            "  78.44468775 154.63979785 183.10672026 178.26276943  31.39191545\n",
            " 171.42304429  47.56403393  99.47260072 153.42394273  88.44622501\n",
            " 109.41960673 156.77368611 118.56329225  53.57522506  90.39751407\n",
            " 170.59937993 156.09990496  55.72679325 175.78946863 194.72499464\n",
            " 168.75985002  86.84107547 187.91913382 132.44202389  91.15582321]\n"
          ]
        }
      ]
    },
    {
      "cell_type": "markdown",
      "source": [
        "Ploting x and y scatter graph"
      ],
      "metadata": {
        "id": "tZuGUQ1JmIHc"
      }
    },
    {
      "cell_type": "code",
      "source": [
        "plt.scatter(x, y, color = 'r', marker = 'o')\n",
        "plt.xlabel(\"Values of X\")\n",
        "plt.ylabel(\"Values of Y\")\n",
        "plt.show()"
      ],
      "metadata": {
        "colab": {
          "base_uri": "https://localhost:8080/",
          "height": 279
        },
        "id": "5R2pU-rAme40",
        "outputId": "13ab88d3-d9f1-4d05-85ca-56a45a27664a"
      },
      "execution_count": 13,
      "outputs": [
        {
          "output_type": "display_data",
          "data": {
            "text/plain": [
              "<Figure size 432x288 with 1 Axes>"
            ],
            "image/png": "[encoded data removed]"
          },
          "metadata": {
            "needs_background": "light"
          }
        }
      ]
    },
    {
      "cell_type": "markdown",
      "source": [
        "Finding intersect and coefficient using mean value.\n",
        "function = wx + c"
      ],
      "metadata": {
        "id": "1D_j9AqGo8C3"
      }
    },
    {
      "cell_type": "code",
      "source": [
        "x_mean = np.mean(x)\n",
        "y_mean = np.mean(y)\n",
        "print(\"Mean X:\", x_mean, \"Y:\", y_mean)"
      ],
      "metadata": {
        "colab": {
          "base_uri": "https://localhost:8080/"
        },
        "id": "uMUJLx7GpPY1",
        "outputId": "5e3bc344-6bfc-4ad7-b827-18c9f3806a6f"
      },
      "execution_count": 14,
      "outputs": [
        {
          "output_type": "stream",
          "name": "stdout",
          "text": [
            "Mean X: 56.7 Y: 112.57773110066825\n"
          ]
        }
      ]
    },
    {
      "cell_type": "code",
      "source": [
        "feature_size = len(x)\n",
        "numerator = np.sum(np.dot(x, y)) - feature_size * x_mean * y_mean\n",
        "denominator = np.sum(np.dot(x, x)) - feature_size * x_mean * x_mean\n",
        "print(\"Numerator: \", numerator, \"Denominator: \", denominator)"
      ],
      "metadata": {
        "colab": {
          "base_uri": "https://localhost:8080/"
        },
        "id": "fSrXlTMrplRu",
        "outputId": "aaea29ab-43ab-46b6-dedc-ac75c07ef0e2"
      },
      "execution_count": 15,
      "outputs": [
        {
          "output_type": "stream",
          "name": "stdout",
          "text": [
            "Numerator:  143530.6684226637 Denominator:  72453.0\n"
          ]
        }
      ]
    },
    {
      "cell_type": "code",
      "source": [
        "# coefficient and intersect\n",
        "w = numerator / denominator\n",
        "c = y_mean - w * x_mean\n",
        "print(\"Coefficient: \", w, \"Intersect: \", c)"
      ],
      "metadata": {
        "colab": {
          "base_uri": "https://localhost:8080/"
        },
        "id": "Uznhr0PjrAVB",
        "outputId": "b6e13ef9-5f37-47f1-90db-3951a69ac438"
      },
      "execution_count": 16,
      "outputs": [
        {
          "output_type": "stream",
          "name": "stdout",
          "text": [
            "Coefficient:  1.9810176034486315 Intersect:  0.2540329851308343\n"
          ]
        }
      ]
    },
    {
      "cell_type": "markdown",
      "source": [
        "Predict the value."
      ],
      "metadata": {
        "id": "i08Id3iAsNvO"
      }
    },
    {
      "cell_type": "code",
      "source": [
        "# convert x(int array) to float array\n",
        "x = x.astype(np.float32)\n",
        "# prediction\n",
        "y_predicted = w * x + c\n",
        "plt.plot(x, y_predicted, color= 'g')\n",
        "plt.scatter(x, y, color = 'r', marker = 'o')\n",
        "plt.xlabel(\"Values of X\")\n",
        "plt.ylabel(\"Values of Y\")\n",
        "plt.show()"
      ],
      "metadata": {
        "colab": {
          "base_uri": "https://localhost:8080/",
          "height": 279
        },
        "id": "iKreL2UVsVP0",
        "outputId": "3ce6d0a0-5693-41d8-f470-41c10bb7040b"
      },
      "execution_count": 17,
      "outputs": [
        {
          "output_type": "display_data",
          "data": {
            "text/plain": [
              "<Figure size 432x288 with 1 Axes>"
            ],
            "image/png": "[encoded data removed]"
          },
          "metadata": {
            "needs_background": "light"
          }
        }
      ]
    },
    {
      "cell_type": "code",
      "source": [
        "# random test\n",
        "x_random = float(input(\"Enter a number: \"))"
      ],
      "metadata": {
        "colab": {
          "base_uri": "https://localhost:8080/"
        },
        "id": "2m8aZRt4tZgH",
        "outputId": "802d8e9d-7832-427f-855c-4e3de13bfb23"
      },
      "execution_count": 18,
      "outputs": [
        {
          "name": "stdout",
          "output_type": "stream",
          "text": [
            "Enter a number: 30\n"
          ]
        }
      ]
    },
    {
      "cell_type": "code",
      "source": [
        "# Predinction for random values\n",
        "y_random_prediction = w * x_random + c\n",
        "print(\"The prediction is: \", y_random_prediction, \"for x = \", x_random)"
      ],
      "metadata": {
        "colab": {
          "base_uri": "https://localhost:8080/"
        },
        "id": "TysfHWx_vECo",
        "outputId": "a6f2d59d-62b6-444e-d25c-5ecdea8e9d20"
      },
      "execution_count": 19,
      "outputs": [
        {
          "output_type": "stream",
          "name": "stdout",
          "text": [
            "The prediction is:  59.68456108858978 for x =  30.0\n"
          ]
        }
      ]
    },
    {
      "cell_type": "code",
      "source": [],
      "metadata": {
        "id": "YsL6uuS9g-K0"
      },
      "execution_count": null,
      "outputs": []
    }
  ]
}