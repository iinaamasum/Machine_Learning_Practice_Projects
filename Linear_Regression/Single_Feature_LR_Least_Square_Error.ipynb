{
  "nbformat": 4,
  "nbformat_minor": 0,
  "metadata": {
    "colab": {
      "provenance": [],
      "authorship_tag": "ABX9TyOWonLj9E6vLdrGwc8BKz5r",
      "include_colab_link": true
    },
    "kernelspec": {
      "name": "python3",
      "display_name": "Python 3"
    },
    "language_info": {
      "name": "python"
    }
  },
  "cells": [
    {
      "cell_type": "markdown",
      "metadata": {
        "id": "view-in-github",
        "colab_type": "text"
      },
      "source": [
        "<a href=\"https://colab.research.google.com/github/iinaamasum/Machine_Learning_Practice_Projects/blob/main/Single_Feature_LR_Least_Square_Error.ipynb\" target=\"_parent\"><img src=\"https://colab.research.google.com/assets/colab-badge.svg\" alt=\"Open In Colab\"/></a>"
      ]
    },
    {
      "cell_type": "markdown",
      "source": [
        "All imports"
      ],
      "metadata": {
        "id": "KGSRMS7Jh1KJ"
      }
    },
    {
      "cell_type": "code",
      "source": [
        "import numpy as np\n",
        "import matplotlib.pyplot as plt\n",
        "import random"
      ],
      "metadata": {
        "id": "dRUiNNxTh3JF"
      },
      "execution_count": 1,
      "outputs": []
    },
    {
      "cell_type": "markdown",
      "source": [
        "Generating values of x and y for train"
      ],
      "metadata": {
        "id": "4bTcci2WiCjA"
      }
    },
    {
      "cell_type": "code",
      "source": [
        "x = np.array(100*np.random.rand(1, 100))\n",
        "y_list = []\n",
        "for val in x[0]:\n",
        "    y_list.append(random.choice([2*val + 20*random.random(), 2*val - 20*random.random()]))\n",
        "y = np.array(y_list)\n",
        "print(\"Feature X: \", x)\n",
        "print(\"Feature Y: \", y)"
      ],
      "metadata": {
        "colab": {
          "base_uri": "https://localhost:8080/"
        },
        "id": "iT1y_IFLiIYs",
        "outputId": "28818c77-1236-47c8-bb27-345f3926b4de"
      },
      "execution_count": 32,
      "outputs": [
        {
          "output_type": "stream",
          "name": "stdout",
          "text": [
            "Feature X:  [[36.67292452 49.13837694 52.50106652 70.79170461 80.4427993  84.82951031\n",
            "  29.75034083 66.56244665 88.85475582 91.57834694 17.76014873 36.42569409\n",
            "  62.83327291 21.95991294 24.55014944 67.84933141 94.27170593 56.29326821\n",
            "  22.86545747 85.19582361 68.30152949 72.85608539  3.61809934 15.90487688\n",
            "  86.91618352 23.55867403 54.03149899 62.15080476 47.56901956 45.20967143\n",
            "  23.86763886 20.36483498 96.18273573 11.65200969 21.61861322 50.60832995\n",
            "  73.79140372 33.15223736 29.24900845 37.0215919  70.32843153 90.07560683\n",
            "  70.75747593  8.41362134 52.25588681 20.83526557 52.32110292 98.1216875\n",
            "  95.90276994 72.7513307  80.82988828 29.89540647 28.690137   82.52778916\n",
            "  30.90788704 84.03782058 87.85037403 55.86463244 86.47562967 86.75652489\n",
            "  30.53385432 73.99142617 72.75333358 87.90868091 76.40861931 17.18730668\n",
            "   8.04125913 89.79975262 85.01812693 54.2854817  67.91799588 73.68666232\n",
            "  87.93263074 16.1747038  77.49401995 52.69629209 98.87764369 55.27878929\n",
            "  86.79788765 12.0629326  53.85016525 59.03283838 19.06295517  2.05542033\n",
            "  92.80565235 96.43713906 18.95217651 22.2638105   0.79883217 75.90819052\n",
            "   0.4746067  65.74365877  7.89085036 97.97987996 23.30199613 93.76882615\n",
            "  78.74659516 58.93571979 45.13124353 46.25794625]]\n",
            "Feature Y:  [ 79.00559352  98.07571765 103.88988216 147.69326862 167.84784664\n",
            " 175.3166655   61.55337242 144.81827782 189.50081223 178.96876747\n",
            "  31.38101501  71.58984776 137.50210457  37.45049464  52.30802397\n",
            " 127.302661   183.00557747 106.3692693   51.94200429 150.84330102\n",
            " 144.76372932 151.47934311  -8.86195157  30.92967173 162.41012915\n",
            "  33.85126611 105.40095798 123.80377984  77.21198671  94.85165094\n",
            "  55.01441022  40.94270858 198.70373059  32.39202843  52.41243088\n",
            "  94.03183344 136.37845022  78.84482338  63.08953837  90.23134398\n",
            " 124.14265373 190.88869666 157.343205    36.53931926 118.89923404\n",
            "  52.92208387  94.04257746 201.95248586 201.01951855 140.68240275\n",
            " 169.71698277  47.16481657  48.37858682 171.03133125  55.28086282\n",
            " 166.27557288 159.44494981  98.8078199  190.97932495 176.49374935\n",
            "  51.80056278 134.71625138 139.36131962 175.2286945  138.51098116\n",
            "  43.21103167  29.71815542 177.01365804 156.7945997   97.29330711\n",
            " 129.1076513  161.66247912 181.46838804  48.14176351 145.59816459\n",
            " 100.69664261 212.76186661  96.7835027  177.5222078   15.78464041\n",
            "  88.31399129 104.01778902  47.30953639   1.03821907 201.75175014\n",
            " 177.61137379  25.40051634  46.95585403 -15.00475393 156.78069615\n",
            "   8.83911467 147.07806753   6.33848086 205.36800075  58.64051235\n",
            " 186.43808516 151.98633546 130.4661761  104.48328787 112.27044895]\n"
          ]
        }
      ]
    },
    {
      "cell_type": "markdown",
      "source": [
        "Ploting x and y\n"
      ],
      "metadata": {
        "id": "p_BTCUfrmIZw"
      }
    },
    {
      "cell_type": "code",
      "source": [
        "plt.scatter(x, y, color='b', marker='.')\n",
        "plt.xlabel(\"Values of X\")\n",
        "plt.ylabel(\"Values of Y\")\n",
        "plt.show()"
      ],
      "metadata": {
        "colab": {
          "base_uri": "https://localhost:8080/",
          "height": 279
        },
        "id": "Tz-nTXnFmNKw",
        "outputId": "c56e0b6f-f5cb-45e9-94af-7af6767d5af2"
      },
      "execution_count": 33,
      "outputs": [
        {
          "output_type": "display_data",
          "data": {
            "text/plain": [
              "<Figure size 432x288 with 1 Axes>"
            ],
            "image/png": "[encoded data removed]"
          },
          "metadata": {
            "needs_background": "light"
          }
        }
      ]
    },
    {
      "cell_type": "markdown",
      "source": [],
      "metadata": {
        "id": "RfPwp1QOqtii"
      }
    },
    {
      "cell_type": "markdown",
      "source": [
        "**Calculating the coefficient from the cost function**"
      ],
      "metadata": {
        "id": "Fs4bSl54kHPk"
      }
    },
    {
      "cell_type": "code",
      "source": [
        "def coefficient(m, b, learning_rate):\n",
        "    m_grad, b_grad = 0, 0\n",
        "    data_size = y.size\n",
        "    for i in range(data_size):\n",
        "        m_grad += (-1 / data_size) * x[0][i] * (y[i] - m * x[0][i] - b)\n",
        "        b_grad += (-1 / data_size) * (y[i] - m * x[0][i] - b)\n",
        "    m = m - learning_rate * m_grad\n",
        "    b = b - learning_rate * b_grad\n",
        "    return m, b\n",
        "\n",
        "m, b, learning_rate, epochs = 0, 0, 0.0001, 1000\n",
        "for _ in range(epochs):\n",
        "    m, b = coefficient(m, b, learning_rate)\n",
        "print(f\"Coefficient: {m} and Intersect: {b}\")"
      ],
      "metadata": {
        "colab": {
          "base_uri": "https://localhost:8080/"
        },
        "id": "pUMrWZXQk6Bn",
        "outputId": "a0511236-d243-44b1-b3c4-760a5cd4fec9"
      },
      "execution_count": 43,
      "outputs": [
        {
          "output_type": "stream",
          "name": "stdout",
          "text": [
            "Coefficient: 2.0050910893364398 and Intersect: 0.035405727810012326\n"
          ]
        }
      ]
    },
    {
      "cell_type": "markdown",
      "source": [
        "Ploting graph using function, y = mx + b"
      ],
      "metadata": {
        "id": "mNT0hBX0sGWR"
      }
    },
    {
      "cell_type": "code",
      "source": [
        "y_predicted = []\n",
        "for val in x[0]:\n",
        "    y_predicted.append(m*val + b)\n",
        "plt.plot(x[0], y_predicted, color = 'g')\n",
        "plt.scatter(x[0], y, color = 'b', marker = '.')\n",
        "plt.xlabel(\"Values of x\")\n",
        "plt.ylabel(\"Values of y\")\n",
        "plt.show()"
      ],
      "metadata": {
        "colab": {
          "base_uri": "https://localhost:8080/",
          "height": 279
        },
        "id": "UE2-0rEUplHY",
        "outputId": "7ff943d0-c982-4a9f-81e9-1fa618408e24"
      },
      "execution_count": 40,
      "outputs": [
        {
          "output_type": "display_data",
          "data": {
            "text/plain": [
              "<Figure size 432x288 with 1 Axes>"
            ],
            "image/png": "[encoded data removed]"
          },
          "metadata": {
            "needs_background": "light"
          }
        }
      ]
    },
    {
      "cell_type": "markdown",
      "source": [
        "Testing with random inputs"
      ],
      "metadata": {
        "id": "Qt1rO7Wbtvk7"
      }
    },
    {
      "cell_type": "code",
      "source": [
        "x_test_random = float(input(\"Enter a number: \"))"
      ],
      "metadata": {
        "colab": {
          "base_uri": "https://localhost:8080/"
        },
        "id": "GoUvnVH9tzqJ",
        "outputId": "3f455187-9c39-466f-b09e-c6d2d473c4b6"
      },
      "execution_count": 41,
      "outputs": [
        {
          "name": "stdout",
          "output_type": "stream",
          "text": [
            "Enter a number: 150\n"
          ]
        }
      ]
    },
    {
      "cell_type": "code",
      "source": [
        "y_predict_random = m * x_test_random + b\n",
        "print(f\"Predicted value is Y = {y_predict_random} for x = {x_test_random}\")"
      ],
      "metadata": {
        "colab": {
          "base_uri": "https://localhost:8080/"
        },
        "id": "cVFXpK76t86x",
        "outputId": "cb491729-2908-41d6-a034-28d9911635e3"
      },
      "execution_count": 42,
      "outputs": [
        {
          "output_type": "stream",
          "name": "stdout",
          "text": [
            "Predicted value is Y = 300.799069128276 for x = 150.0\n"
          ]
        }
      ]
    },
    {
      "cell_type": "code",
      "source": [],
      "metadata": {
        "id": "-x4EiG6Fu8dk"
      },
      "execution_count": null,
      "outputs": []
    }
  ]
}