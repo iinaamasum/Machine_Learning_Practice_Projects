{
  "cells": [
    {
      "cell_type": "markdown",
      "metadata": {
        "colab_type": "text",
        "id": "view-in-github"
      },
      "source": [
        "<a href=\"https://colab.research.google.com/github/iinaamasum/Machine_Learning_Practice_Projects/blob/main/Single_Feature_Linear_Regression.ipynb\" target=\"_parent\"><img src=\"https://colab.research.google.com/assets/colab-badge.svg\" alt=\"Open In Colab\"/></a>"
      ]
    },
    {
      "cell_type": "markdown",
      "metadata": {
        "id": "-nBXQZ09iZck"
      },
      "source": [
        "All imports"
      ]
    },
    {
      "cell_type": "code",
      "execution_count": 1,
      "metadata": {
        "id": "HwDrJ9Kxib7s"
      },
      "outputs": [],
      "source": [
        "import numpy as np\n",
        "from matplotlib import pyplot as plt\n",
        "from random import randint, choice, random"
      ]
    },
    {
      "cell_type": "markdown",
      "metadata": {
        "id": "mgqk4gsmjbD2"
      },
      "source": [
        "Sample Data"
      ]
    },
    {
      "cell_type": "code",
      "execution_count": 2,
      "metadata": {
        "colab": {
          "base_uri": "https://localhost:8080/"
        },
        "id": "qb8qx7WZjeKE",
        "outputId": "096a4d13-b1c4-41e2-a256-34aae0d3dcea"
      },
      "outputs": [
        {
          "name": "stdout",
          "output_type": "stream",
          "text": [
            "X: [58 67 71  1 28 49 18 92 15 19 99 64 68 61 96 34 24  9 92 76 65  2 21 77\n",
            " 96 44 12 79 84 68  2 88 60 96 81 75 19 61 36 12 11 82 54 27  2 78 13 67\n",
            " 75 69 37 53  2 53 25 98 74 63 63 91 17 24 17 37 35 35 34 91 22 37  8 50\n",
            " 18 57 35 36 74 46 86 21 18 37 48 81 62  0  9 97 49 62 73 41 58 40 55 74\n",
            " 81 54 58 79]\n",
            "Y: [106.76837508 134.8336684  146.43502856  -2.83786794  52.70646912\n",
            " 105.83885501  37.64237346 175.46247911  24.94569361  29.60542878\n",
            " 198.00696871 131.89475463 132.16101154 118.0783912  198.40625933\n",
            "  67.15056099  43.86195484  26.92670593 177.26259982 153.90871509\n",
            " 126.58129794  -5.8960486   50.04917432 160.09218809 186.95210305\n",
            "  83.89073361  19.73978758 149.81381471 176.00441666 135.40892044\n",
            "   1.22373332 167.93422814 117.93146646 199.22687216 152.99459\n",
            " 159.73844211  35.03902492 128.16427674  65.42915173  27.00645716\n",
            "  14.45054532 167.18501499 112.88159654  44.51072645  -5.4552901\n",
            " 165.94838013  24.65340837 137.22187933 145.96179693 145.44760813\n",
            "  66.0338863  100.63831257  -3.44023503 106.43445247  48.04828567\n",
            " 198.25585777 148.00693913 116.4769496  123.08232191 178.97103754\n",
            "  42.95138022  53.84637381  25.33853732  66.360621    61.74994362\n",
            "  63.40201551  71.82665569 174.27688147  50.98657667  74.52368065\n",
            "   8.77760762  91.08934317  33.49521283 112.00296487  69.42065301\n",
            "  71.87860255 149.95414984  88.01250927 167.47482967  32.61319339\n",
            "  30.94083609  78.74395789  89.4883784  157.48185172 120.77220514\n",
            "  -5.23072776  12.93684434 199.99473432  94.86734346 121.95240238\n",
            " 138.94525206  78.94988272 120.55458423  82.49425454 117.69997007\n",
            " 147.51812634 171.49007214 115.30281721 107.51713329 161.36597658]\n"
          ]
        }
      ],
      "source": [
        "x_list, y_list = [], []\n",
        "for _ in range(100):\n",
        "    val = randint(0, 100)\n",
        "    x_list.append(val)\n",
        "    y_list.append(choice([2*val + 10*random(), 2*val - 10*random()]))\n",
        "x = np.array(x_list)\n",
        "y = np.array(y_list)\n",
        "# Printing the random values assigned in x and y\n",
        "print(f\"X: {x}\")\n",
        "print(f\"Y: {y}\")"
      ]
    },
    {
      "cell_type": "markdown",
      "metadata": {
        "id": "tZuGUQ1JmIHc"
      },
      "source": [
        "Ploting x and y scatter graph"
      ]
    },
    {
      "cell_type": "code",
      "execution_count": 3,
      "metadata": {
        "colab": {
          "base_uri": "https://localhost:8080/",
          "height": 279
        },
        "id": "5R2pU-rAme40",
        "outputId": "13ab88d3-d9f1-4d05-85ca-56a45a27664a"
      },
      "outputs": [
        {
          "data": {
            "image/png": "[encoded data removed]",
            "text/plain": [
              "<Figure size 640x480 with 1 Axes>"
            ]
          },
          "metadata": {},
          "output_type": "display_data"
        }
      ],
      "source": [
        "plt.scatter(x, y, color = 'r', marker = 'o')\n",
        "plt.xlabel(\"Values of X\")\n",
        "plt.ylabel(\"Values of Y\")\n",
        "plt.show()"
      ]
    },
    {
      "cell_type": "markdown",
      "metadata": {
        "id": "1D_j9AqGo8C3"
      },
      "source": [
        "Finding intersect and coefficient using mean value.\n",
        "function = wx + c"
      ]
    },
    {
      "cell_type": "code",
      "execution_count": 4,
      "metadata": {
        "colab": {
          "base_uri": "https://localhost:8080/"
        },
        "id": "uMUJLx7GpPY1",
        "outputId": "5e3bc344-6bfc-4ad7-b827-18c9f3806a6f"
      },
      "outputs": [
        {
          "name": "stdout",
          "output_type": "stream",
          "text": [
            "Mean X: 50.12 Y: 98.85464157179605\n"
          ]
        }
      ],
      "source": [
        "x_mean = np.mean(x)\n",
        "y_mean = np.mean(y)\n",
        "print(\"Mean X:\", x_mean, \"Y:\", y_mean)"
      ]
    },
    {
      "cell_type": "code",
      "execution_count": 5,
      "metadata": {
        "colab": {
          "base_uri": "https://localhost:8080/"
        },
        "id": "fSrXlTMrplRu",
        "outputId": "aaea29ab-43ab-46b6-dedc-ac75c07ef0e2"
      },
      "outputs": [
        {
          "name": "stdout",
          "output_type": "stream",
          "text": [
            "Numerator:  164457.22280254972 Denominator:  80432.56000000003\n"
          ]
        }
      ],
      "source": [
        "feature_size = len(x)\n",
        "numerator = np.sum(np.dot(x, y)) - feature_size * x_mean * y_mean\n",
        "denominator = np.sum(np.dot(x, x)) - feature_size * x_mean * x_mean\n",
        "print(\"Numerator: \", numerator, \"Denominator: \", denominator)"
      ]
    },
    {
      "cell_type": "code",
      "execution_count": 6,
      "metadata": {
        "colab": {
          "base_uri": "https://localhost:8080/"
        },
        "id": "Uznhr0PjrAVB",
        "outputId": "b6e13ef9-5f37-47f1-90db-3951a69ac438"
      },
      "outputs": [
        {
          "name": "stdout",
          "output_type": "stream",
          "text": [
            "Coefficient:  2.0446598094422166 Intersect:  -3.6237080774478443\n"
          ]
        }
      ],
      "source": [
        "# coefficient and intersect\n",
        "w = numerator / denominator\n",
        "c = y_mean - w * x_mean\n",
        "print(\"Coefficient: \", w, \"Intersect: \", c)"
      ]
    },
    {
      "cell_type": "markdown",
      "metadata": {
        "id": "i08Id3iAsNvO"
      },
      "source": [
        "Predict the value."
      ]
    },
    {
      "cell_type": "code",
      "execution_count": 7,
      "metadata": {
        "colab": {
          "base_uri": "https://localhost:8080/",
          "height": 279
        },
        "id": "iKreL2UVsVP0",
        "outputId": "3ce6d0a0-5693-41d8-f470-41c10bb7040b"
      },
      "outputs": [
        {
          "data": {
            "image/png": "[encoded data removed]",
            "text/plain": [
              "<Figure size 640x480 with 1 Axes>"
            ]
          },
          "metadata": {},
          "output_type": "display_data"
        }
      ],
      "source": [
        "# convert x(int array) to float array\n",
        "x = x.astype(np.float32)\n",
        "# prediction\n",
        "y_predicted = w * x + c\n",
        "plt.plot(x, y_predicted, color= 'g')\n",
        "plt.scatter(x, y, color = 'r', marker = 'o')\n",
        "plt.xlabel(\"Values of X\")\n",
        "plt.ylabel(\"Values of Y\")\n",
        "plt.show()"
      ]
    },
    {
      "cell_type": "code",
      "execution_count": 8,
      "metadata": {
        "colab": {
          "base_uri": "https://localhost:8080/"
        },
        "id": "2m8aZRt4tZgH",
        "outputId": "802d8e9d-7832-427f-855c-4e3de13bfb23"
      },
      "outputs": [],
      "source": [
        "# random test\n",
        "x_random = float(input(\"Enter a number: \"))"
      ]
    },
    {
      "cell_type": "code",
      "execution_count": 9,
      "metadata": {
        "colab": {
          "base_uri": "https://localhost:8080/"
        },
        "id": "TysfHWx_vECo",
        "outputId": "a6f2d59d-62b6-444e-d25c-5ecdea8e9d20"
      },
      "outputs": [
        {
          "name": "stdout",
          "output_type": "stream",
          "text": [
            "The prediction is:  98.60928239466298 for x =  50.0\n"
          ]
        }
      ],
      "source": [
        "# Predinction for random values\n",
        "y_random_prediction = w * x_random + c\n",
        "print(\"The prediction is: \", y_random_prediction, \"for x = \", x_random)"
      ]
    }
  ],
  "metadata": {
    "colab": {
      "authorship_tag": "ABX9TyPT6hpgYN50MmANk4O8V6Ee",
      "include_colab_link": true,
      "provenance": []
    },
    "kernelspec": {
      "display_name": "Python 3",
      "language": "python",
      "name": "python3"
    },
    "language_info": {
      "codemirror_mode": {
        "name": "ipython",
        "version": 3
      },
      "file_extension": ".py",
      "mimetype": "text/x-python",
      "name": "python",
      "nbconvert_exporter": "python",
      "pygments_lexer": "ipython3",
      "version": "3.10.6"
    },
    "vscode": {
      "interpreter": {
        "hash": "916dbcbb3f70747c44a77c7bcd40155683ae19c65e1c03b4aa3499c5328201f1"
      }
    }
  },
  "nbformat": 4,
  "nbformat_minor": 0
}
