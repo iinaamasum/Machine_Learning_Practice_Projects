{
  "cells": [
    {
      "cell_type": "markdown",
      "metadata": {
        "id": "0rMEX0Y4TmX5"
      },
      "source": [
        "# **Polynomial Regression**\n",
        "All imports\n"
      ]
    },
    {
      "cell_type": "code",
      "execution_count": 3,
      "metadata": {
        "id": "whsJZEY3TrtA"
      },
      "outputs": [],
      "source": [
        "import numpy as np\n",
        "import pandas as pd\n",
        "import matplotlib.pyplot as plt"
      ]
    },
    {
      "cell_type": "markdown",
      "metadata": {
        "id": "hExbnZaUVETp"
      },
      "source": [
        "Reading CSV"
      ]
    },
    {
      "cell_type": "code",
      "execution_count": 5,
      "metadata": {
        "colab": {
          "base_uri": "https://localhost:8080/",
          "height": 363
        },
        "id": "EU6JFCfwVG7d",
        "outputId": "1111d43b-5cc0-4a54-d037-6cb141ab7c26"
      },
      "outputs": [
        {
          "data": {
            "text/html": [
              "\n",
              "  <div id=\"df-afdaf474-f66b-433a-a960-6a32136320ac\">\n",
              "    <div class=\"colab-df-container\">\n",
              "      <div>\n",
              "<style scoped>\n",
              "    .dataframe tbody tr th:only-of-type {\n",
              "        vertical-align: middle;\n",
              "    }\n",
              "\n",
              "    .dataframe tbody tr th {\n",
              "        vertical-align: top;\n",
              "    }\n",
              "\n",
              "    .dataframe thead th {\n",
              "        text-align: right;\n",
              "    }\n",
              "</style>\n",
              "<table border=\"1\" class=\"dataframe\">\n",
              "  <thead>\n",
              "    <tr style=\"text-align: right;\">\n",
              "      <th></th>\n",
              "      <th>Level</th>\n",
              "      <th>Salary</th>\n",
              "    </tr>\n",
              "  </thead>\n",
              "  <tbody>\n",
              "    <tr>\n",
              "      <th>0</th>\n",
              "      <td>1</td>\n",
              "      <td>45000</td>\n",
              "    </tr>\n",
              "    <tr>\n",
              "      <th>1</th>\n",
              "      <td>2</td>\n",
              "      <td>50000</td>\n",
              "    </tr>\n",
              "    <tr>\n",
              "      <th>2</th>\n",
              "      <td>3</td>\n",
              "      <td>60000</td>\n",
              "    </tr>\n",
              "    <tr>\n",
              "      <th>3</th>\n",
              "      <td>4</td>\n",
              "      <td>80000</td>\n",
              "    </tr>\n",
              "    <tr>\n",
              "      <th>4</th>\n",
              "      <td>5</td>\n",
              "      <td>110000</td>\n",
              "    </tr>\n",
              "    <tr>\n",
              "      <th>5</th>\n",
              "      <td>6</td>\n",
              "      <td>150000</td>\n",
              "    </tr>\n",
              "    <tr>\n",
              "      <th>6</th>\n",
              "      <td>7</td>\n",
              "      <td>200000</td>\n",
              "    </tr>\n",
              "    <tr>\n",
              "      <th>7</th>\n",
              "      <td>8</td>\n",
              "      <td>300000</td>\n",
              "    </tr>\n",
              "    <tr>\n",
              "      <th>8</th>\n",
              "      <td>9</td>\n",
              "      <td>500000</td>\n",
              "    </tr>\n",
              "    <tr>\n",
              "      <th>9</th>\n",
              "      <td>10</td>\n",
              "      <td>1000000</td>\n",
              "    </tr>\n",
              "  </tbody>\n",
              "</table>\n",
              "</div>\n",
              "      <button class=\"colab-df-convert\" onclick=\"convertToInteractive('df-afdaf474-f66b-433a-a960-6a32136320ac')\"\n",
              "              title=\"Convert this dataframe to an interactive table.\"\n",
              "              style=\"display:none;\">\n",
              "        \n",
              "  <svg xmlns=\"http://www.w3.org/2000/svg\" height=\"24px\"viewBox=\"0 0 24 24\"\n",
              "       width=\"24px\">\n",
              "    <path d=\"M0 0h24v24H0V0z\" fill=\"none\"/>\n",
              "    <path d=\"M18.56 5.44l.94 2.06.94-2.06 2.06-.94-2.06-.94-.94-2.06-.94 2.06-2.06.94zm-11 1L8.5 8.5l.94-2.06 2.06-.94-2.06-.94L8.5 2.5l-.94 2.06-2.06.94zm10 10l.94 2.06.94-2.06 2.06-.94-2.06-.94-.94-2.06-.94 2.06-2.06.94z\"/><path d=\"M17.41 7.96l-1.37-1.37c-.4-.4-.92-.59-1.43-.59-.52 0-1.04.2-1.43.59L10.3 9.45l-7.72 7.72c-.78.78-.78 2.05 0 2.83L4 21.41c.39.39.9.59 1.41.59.51 0 1.02-.2 1.41-.59l7.78-7.78 2.81-2.81c.8-.78.8-2.07 0-2.86zM5.41 20L4 18.59l7.72-7.72 1.47 1.35L5.41 20z\"/>\n",
              "  </svg>\n",
              "      </button>\n",
              "      \n",
              "  <style>\n",
              "    .colab-df-container {\n",
              "      display:flex;\n",
              "      flex-wrap:wrap;\n",
              "      gap: 12px;\n",
              "    }\n",
              "\n",
              "    .colab-df-convert {\n",
              "      background-color: #E8F0FE;\n",
              "      border: none;\n",
              "      border-radius: 50%;\n",
              "      cursor: pointer;\n",
              "      display: none;\n",
              "      fill: #1967D2;\n",
              "      height: 32px;\n",
              "      padding: 0 0 0 0;\n",
              "      width: 32px;\n",
              "    }\n",
              "\n",
              "    .colab-df-convert:hover {\n",
              "      background-color: #E2EBFA;\n",
              "      box-shadow: 0px 1px 2px rgba(60, 64, 67, 0.3), 0px 1px 3px 1px rgba(60, 64, 67, 0.15);\n",
              "      fill: #174EA6;\n",
              "    }\n",
              "\n",
              "    [theme=dark] .colab-df-convert {\n",
              "      background-color: #3B4455;\n",
              "      fill: #D2E3FC;\n",
              "    }\n",
              "\n",
              "    [theme=dark] .colab-df-convert:hover {\n",
              "      background-color: #434B5C;\n",
              "      box-shadow: 0px 1px 3px 1px rgba(0, 0, 0, 0.15);\n",
              "      filter: drop-shadow(0px 1px 2px rgba(0, 0, 0, 0.3));\n",
              "      fill: #FFFFFF;\n",
              "    }\n",
              "  </style>\n",
              "\n",
              "      <script>\n",
              "        const buttonEl =\n",
              "          document.querySelector('#df-afdaf474-f66b-433a-a960-6a32136320ac button.colab-df-convert');\n",
              "        buttonEl.style.display =\n",
              "          google.colab.kernel.accessAllowed ? 'block' : 'none';\n",
              "\n",
              "        async function convertToInteractive(key) {\n",
              "          const element = document.querySelector('#df-afdaf474-f66b-433a-a960-6a32136320ac');\n",
              "          const dataTable =\n",
              "            await google.colab.kernel.invokeFunction('convertToInteractive',\n",
              "                                                     [key], {});\n",
              "          if (!dataTable) return;\n",
              "\n",
              "          const docLinkHtml = 'Like what you see? Visit the ' +\n",
              "            '<a target=\"_blank\" href=https://colab.research.google.com/notebooks/data_table.ipynb>data table notebook</a>'\n",
              "            + ' to learn more about interactive tables.';\n",
              "          element.innerHTML = '';\n",
              "          dataTable['output_type'] = 'display_data';\n",
              "          await google.colab.output.renderOutput(dataTable, element);\n",
              "          const docLink = document.createElement('div');\n",
              "          docLink.innerHTML = docLinkHtml;\n",
              "          element.appendChild(docLink);\n",
              "        }\n",
              "      </script>\n",
              "    </div>\n",
              "  </div>\n",
              "  "
            ],
            "text/plain": [
              "   Level   Salary\n",
              "0      1    45000\n",
              "1      2    50000\n",
              "2      3    60000\n",
              "3      4    80000\n",
              "4      5   110000\n",
              "5      6   150000\n",
              "6      7   200000\n",
              "7      8   300000\n",
              "8      9   500000\n",
              "9     10  1000000"
            ]
          },
          "execution_count": 5,
          "metadata": {},
          "output_type": "execute_result"
        }
      ],
      "source": [
        "df = pd.read_csv(\"salary.csv\")\n",
        "df = df.drop(columns = \"Position\")\n",
        "df"
      ]
    },
    {
      "cell_type": "markdown",
      "metadata": {
        "id": "z-CmV7d1b0FA"
      },
      "source": [
        "Extract x and y"
      ]
    },
    {
      "cell_type": "code",
      "execution_count": 6,
      "metadata": {
        "colab": {
          "base_uri": "https://localhost:8080/",
          "height": 689
        },
        "id": "Bk9QEPKrb6ba",
        "outputId": "3db61269-55e5-4e7d-9090-7562929d51c0"
      },
      "outputs": [
        {
          "data": {
            "image/png": "[encoded data removed]",
            "text/plain": [
              "<Figure size 432x288 with 1 Axes>"
            ]
          },
          "metadata": {
            "needs_background": "light"
          },
          "output_type": "display_data"
        },
        {
          "name": "stdout",
          "output_type": "stream",
          "text": [
            "X:     Level  Level0  Level1  Level2  Level3  Level4\n",
            "0      1       1       1       1       1       1\n",
            "1      2       1       2       4       8      16\n",
            "2      3       1       3       9      27      81\n",
            "3      4       1       4      16      64     256\n",
            "4      5       1       5      25     125     625\n",
            "5      6       1       6      36     216    1296\n",
            "6      7       1       7      49     343    2401\n",
            "7      8       1       8      64     512    4096\n",
            "8      9       1       9      81     729    6561\n",
            "9     10       1      10     100    1000   10000\n",
            "Y:\tSalary\n",
            " 0      45000\n",
            "1      50000\n",
            "2      60000\n",
            "3      80000\n",
            "4     110000\n",
            "5     150000\n",
            "6     200000\n",
            "7     300000\n",
            "8     500000\n",
            "9    1000000\n",
            "Name: Salary, dtype: int64\n"
          ]
        }
      ],
      "source": [
        "y = df['Salary']\n",
        "x = df.drop(columns = \"Salary\")\n",
        "\n",
        "# creating polynomial power till order 4\n",
        "order = 5\n",
        "for i in range(order):\n",
        "    x['Level' + str(i)] = x[\"Level\"] ** i\n",
        "\n",
        "plt.scatter(x['Level'], y)\n",
        "plt.xlabel(\"Value of x\")\n",
        "plt.ylabel(\"Value of y\")\n",
        "plt.show()\n",
        "print(\"X: \", x)\n",
        "print(\"Y:\\tSalary\\n\", y)\n",
        "\n",
        "# taking only values\n",
        "x = x.iloc[:, :].values\n",
        "y = y.values"
      ]
    },
    {
      "cell_type": "markdown",
      "metadata": {
        "id": "NLdrXyRFfVJp"
      },
      "source": [
        "Cost function"
      ]
    },
    {
      "cell_type": "code",
      "execution_count": 7,
      "metadata": {
        "id": "mVXMz9VEfYzi"
      },
      "outputs": [],
      "source": [
        "def costCalculation(x, y, w, b):\n",
        "    cost = np.sum((y - x.dot(w) - b) ** 2)\n",
        "    return 2 * cost / len(y)"
      ]
    },
    {
      "cell_type": "markdown",
      "metadata": {
        "id": "2P3NgfF1f7Wl"
      },
      "source": [
        "Gradiant Descent"
      ]
    },
    {
      "cell_type": "code",
      "execution_count": 9,
      "metadata": {
        "colab": {
          "base_uri": "https://localhost:8080/"
        },
        "id": "FjFAgNcRf9GN",
        "outputId": "22688222-5d41-4861-e292-0ffb6eaf7c69"
      },
      "outputs": [
        {
          "name": "stdout",
          "output_type": "stream",
          "text": [
            "Epoch: 0 --> Cost: 199374414509.05234\n",
            "Epoch: 500 --> Cost: 7489149442.630809\n",
            "Epoch: 1000 --> Cost: 7479176581.2203245\n",
            "Epoch: 1500 --> Cost: 7469495031.473448\n",
            "Epoch: 2000 --> Cost: 7460095846.091629\n",
            "Epoch: 2500 --> Cost: 7450970352.620005\n",
            "Epoch: 3000 --> Cost: 7442110145.004758\n",
            "Epoch: 3500 --> Cost: 7433507075.4097805\n",
            "Epoch: 4000 --> Cost: 7425153246.284716\n",
            "Epoch: 4500 --> Cost: 7417041002.676683\n",
            "Epoch: 5000 --> Cost: 7409162924.778112\n",
            "Epoch: 5500 --> Cost: 7401511820.70358\n",
            "Epoch: 6000 --> Cost: 7394080719.488428\n",
            "Epoch: 6500 --> Cost: 7386862864.3025465\n",
            "Epoch: 7000 --> Cost: 7379851705.872546\n",
            "Epoch: 7500 --> Cost: 7373040896.106024\n",
            "Epoch: 8000 --> Cost: 7366424281.911665\n",
            "Epoch: 8500 --> Cost: 7359995899.209193\n",
            "Epoch: 9000 --> Cost: 7353749967.123314\n",
            "Epoch: 9500 --> Cost: 7347680882.355995\n",
            "W:  [  3.27367301   1.95540402   3.27367301  -2.13646289 -52.17286149\n",
            "  96.72760328] B:  1.9554040207946821\n"
          ]
        }
      ],
      "source": [
        "def lossCalculation(x, y, w, b):\n",
        "    loss = y - x.dot(w) - b\n",
        "    return loss\n",
        "\n",
        "def gradiantDescent(x, y, w, b, learning_rate, epochs):\n",
        "    cost_list = [0] * epochs\n",
        "    for epoch in range(epochs):\n",
        "        n = len(y)\n",
        "        w_grad = (-1 / n) * x.T.dot(lossCalculation(x, y, w, b))\n",
        "        b_grad = (-1 / n) * np.sum(lossCalculation(x, y, w, b))\n",
        "\n",
        "        w = w - learning_rate * w_grad\n",
        "        b = b - learning_rate * b_grad\n",
        "        # print(w_grad)\n",
        "\n",
        "        cost = costCalculation(x, y, w, b)\n",
        "        cost_list[epoch] = cost\n",
        "        if epoch % 500 == 0:\n",
        "            print(f\"Epoch: {epoch} --> Cost: {cost}\")\n",
        "        \n",
        "    return w, b, cost_list\n",
        "w, b, learning_rate, epochs = np.zeros(x.shape[1]), 0, 0.00000001, 10000\n",
        "w, b, cost_list = gradiantDescent(x, y, w, b, learning_rate, epochs)\n",
        "print(\"W: \", w, \"B: \", b)"
      ]
    },
    {
      "cell_type": "markdown",
      "metadata": {
        "id": "XzsquVni9X78"
      },
      "source": [
        "Ploting cost list"
      ]
    },
    {
      "cell_type": "code",
      "execution_count": 10,
      "metadata": {
        "colab": {
          "base_uri": "https://localhost:8080/",
          "height": 290
        },
        "id": "ukCnq4IQ9ahx",
        "outputId": "388144bb-3db7-494d-bc16-f071bed73159"
      },
      "outputs": [
        {
          "data": {
            "image/png": "[encoded data removed]",
            "text/plain": [
              "<Figure size 432x288 with 1 Axes>"
            ]
          },
          "metadata": {
            "needs_background": "light"
          },
          "output_type": "display_data"
        }
      ],
      "source": [
        "plt.plot(cost_list)\n",
        "plt.xlabel(\"Epochs\")\n",
        "plt.ylabel(\"Cost\")\n",
        "plt.show()"
      ]
    },
    {
      "cell_type": "markdown",
      "metadata": {
        "id": "qGk4e_s6-hiO"
      },
      "source": [
        "Predic values"
      ]
    },
    {
      "cell_type": "code",
      "execution_count": 11,
      "metadata": {
        "colab": {
          "base_uri": "https://localhost:8080/",
          "height": 290
        },
        "id": "HpwoevNX-mMQ",
        "outputId": "cc886f0f-52c9-448e-aaae-65f948a9dc8a"
      },
      "outputs": [
        {
          "data": {
            "image/png": "[encoded data removed]",
            "text/plain": [
              "<Figure size 432x288 with 1 Axes>"
            ]
          },
          "metadata": {
            "needs_background": "light"
          },
          "output_type": "display_data"
        }
      ],
      "source": [
        "def prediction(x, w, b):\n",
        "    return x.dot(w) + b\n",
        "\n",
        "y_predicted = prediction(x, w, b)\n",
        "# predicted graph\n",
        "plt.plot(df['Level'].values, y_predicted)\n",
        "# actual y graph\n",
        "plt.plot(df[\"Level\"].values, y, color = 'red', marker = '.')\n",
        "plt.xlabel(\"Level\")\n",
        "plt.ylabel(\"Salary\")\n",
        "plt.show()"
      ]
    },
    {
      "cell_type": "markdown",
      "metadata": {
        "id": "jynx-RhG8fTx"
      },
      "source": [
        "Random inputs test"
      ]
    },
    {
      "cell_type": "code",
      "execution_count": 24,
      "metadata": {
        "colab": {
          "base_uri": "https://localhost:8080/"
        },
        "id": "IE0JfA-h8h7E",
        "outputId": "87f937a1-39bc-46f3-eddb-2c1a30c89098"
      },
      "outputs": [
        {
          "name": "stdout",
          "output_type": "stream",
          "text": [
            "Enter position represented by number: 7\n"
          ]
        }
      ],
      "source": [
        "x_rand = int(input(\"Enter position represented by number: \"))"
      ]
    },
    {
      "cell_type": "code",
      "execution_count": 27,
      "metadata": {
        "colab": {
          "base_uri": "https://localhost:8080/"
        },
        "id": "0kra7zEq8xvY",
        "outputId": "c3582319-ec01-4851-d56b-9026e7db2693"
      },
      "outputs": [
        {
          "name": "stdout",
          "output_type": "stream",
          "text": [
            "Prediction:  232242.9754770606\n",
            "Actual value:  200000\n"
          ]
        }
      ],
      "source": [
        "def random_output(x, w, b):\n",
        "    y_pred = b\n",
        "    for i in range(order):\n",
        "        y_pred = w[i + 1] * x ** i\n",
        "    return y_pred\n",
        "print(\"Prediction: \", random_output(x_rand, w, b))\n",
        "if not 0 <= x_rand <= 10:\n",
        "    print(\"There is not actual value for the input in given given dataset.\")\n",
        "else:\n",
        "    print(\"Actual value: \", y[x_rand - 1])"
      ]
    }
  ],
  "metadata": {
    "colab": {
      "provenance": []
    },
    "kernelspec": {
      "display_name": "Python 3",
      "language": "python",
      "name": "python3"
    },
    "language_info": {
      "name": "python",
      "version": "3.10.6"
    },
    "vscode": {
      "interpreter": {
        "hash": "916dbcbb3f70747c44a77c7bcd40155683ae19c65e1c03b4aa3499c5328201f1"
      }
    }
  },
  "nbformat": 4,
  "nbformat_minor": 0
}
