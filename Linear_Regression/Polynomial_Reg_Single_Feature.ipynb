{
  "nbformat": 4,
  "nbformat_minor": 0,
  "metadata": {
    "colab": {
      "provenance": []
    },
    "kernelspec": {
      "name": "python3",
      "display_name": "Python 3"
    },
    "language_info": {
      "name": "python"
    }
  },
  "cells": [
    {
      "cell_type": "markdown",
      "source": [
        "# **Polynomial Regression**\n",
        "All imports\n"
      ],
      "metadata": {
        "id": "0rMEX0Y4TmX5"
      }
    },
    {
      "cell_type": "code",
      "source": [
        "import numpy as np\n",
        "import pandas as pd\n",
        "import matplotlib.pyplot as plt"
      ],
      "metadata": {
        "id": "whsJZEY3TrtA"
      },
      "execution_count": 2,
      "outputs": []
    },
    {
      "cell_type": "markdown",
      "source": [
        "Reading CSV"
      ],
      "metadata": {
        "id": "hExbnZaUVETp"
      }
    },
    {
      "cell_type": "code",
      "source": [
        "df = pd.read_csv(\"salary.csv\")\n",
        "df = df.drop(columns = \"Position\")\n",
        "df"
      ],
      "metadata": {
        "id": "EU6JFCfwVG7d",
        "colab": {
          "base_uri": "https://localhost:8080/",
          "height": 363
        },
        "outputId": "6e931f79-bc11-4771-b541-dbeb4348e5d1"
      },
      "execution_count": 56,
      "outputs": [
        {
          "output_type": "execute_result",
          "data": {
            "text/plain": [
              "   Level   Salary\n",
              "0      1    45000\n",
              "1      2    50000\n",
              "2      3    60000\n",
              "3      4    80000\n",
              "4      5   110000\n",
              "5      6   150000\n",
              "6      7   200000\n",
              "7      8   300000\n",
              "8      9   500000\n",
              "9     10  1000000"
            ],
            "text/html": [
              "\n",
              "  <div id=\"df-57e55fc9-bb0d-4647-b178-a81f9c9370fa\">\n",
              "    <div class=\"colab-df-container\">\n",
              "      <div>\n",
              "<style scoped>\n",
              "    .dataframe tbody tr th:only-of-type {\n",
              "        vertical-align: middle;\n",
              "    }\n",
              "\n",
              "    .dataframe tbody tr th {\n",
              "        vertical-align: top;\n",
              "    }\n",
              "\n",
              "    .dataframe thead th {\n",
              "        text-align: right;\n",
              "    }\n",
              "</style>\n",
              "<table border=\"1\" class=\"dataframe\">\n",
              "  <thead>\n",
              "    <tr style=\"text-align: right;\">\n",
              "      <th></th>\n",
              "      <th>Level</th>\n",
              "      <th>Salary</th>\n",
              "    </tr>\n",
              "  </thead>\n",
              "  <tbody>\n",
              "    <tr>\n",
              "      <th>0</th>\n",
              "      <td>1</td>\n",
              "      <td>45000</td>\n",
              "    </tr>\n",
              "    <tr>\n",
              "      <th>1</th>\n",
              "      <td>2</td>\n",
              "      <td>50000</td>\n",
              "    </tr>\n",
              "    <tr>\n",
              "      <th>2</th>\n",
              "      <td>3</td>\n",
              "      <td>60000</td>\n",
              "    </tr>\n",
              "    <tr>\n",
              "      <th>3</th>\n",
              "      <td>4</td>\n",
              "      <td>80000</td>\n",
              "    </tr>\n",
              "    <tr>\n",
              "      <th>4</th>\n",
              "      <td>5</td>\n",
              "      <td>110000</td>\n",
              "    </tr>\n",
              "    <tr>\n",
              "      <th>5</th>\n",
              "      <td>6</td>\n",
              "      <td>150000</td>\n",
              "    </tr>\n",
              "    <tr>\n",
              "      <th>6</th>\n",
              "      <td>7</td>\n",
              "      <td>200000</td>\n",
              "    </tr>\n",
              "    <tr>\n",
              "      <th>7</th>\n",
              "      <td>8</td>\n",
              "      <td>300000</td>\n",
              "    </tr>\n",
              "    <tr>\n",
              "      <th>8</th>\n",
              "      <td>9</td>\n",
              "      <td>500000</td>\n",
              "    </tr>\n",
              "    <tr>\n",
              "      <th>9</th>\n",
              "      <td>10</td>\n",
              "      <td>1000000</td>\n",
              "    </tr>\n",
              "  </tbody>\n",
              "</table>\n",
              "</div>\n",
              "      <button class=\"colab-df-convert\" onclick=\"convertToInteractive('df-57e55fc9-bb0d-4647-b178-a81f9c9370fa')\"\n",
              "              title=\"Convert this dataframe to an interactive table.\"\n",
              "              style=\"display:none;\">\n",
              "        \n",
              "  <svg xmlns=\"http://www.w3.org/2000/svg\" height=\"24px\"viewBox=\"0 0 24 24\"\n",
              "       width=\"24px\">\n",
              "    <path d=\"M0 0h24v24H0V0z\" fill=\"none\"/>\n",
              "    <path d=\"M18.56 5.44l.94 2.06.94-2.06 2.06-.94-2.06-.94-.94-2.06-.94 2.06-2.06.94zm-11 1L8.5 8.5l.94-2.06 2.06-.94-2.06-.94L8.5 2.5l-.94 2.06-2.06.94zm10 10l.94 2.06.94-2.06 2.06-.94-2.06-.94-.94-2.06-.94 2.06-2.06.94z\"/><path d=\"M17.41 7.96l-1.37-1.37c-.4-.4-.92-.59-1.43-.59-.52 0-1.04.2-1.43.59L10.3 9.45l-7.72 7.72c-.78.78-.78 2.05 0 2.83L4 21.41c.39.39.9.59 1.41.59.51 0 1.02-.2 1.41-.59l7.78-7.78 2.81-2.81c.8-.78.8-2.07 0-2.86zM5.41 20L4 18.59l7.72-7.72 1.47 1.35L5.41 20z\"/>\n",
              "  </svg>\n",
              "      </button>\n",
              "      \n",
              "  <style>\n",
              "    .colab-df-container {\n",
              "      display:flex;\n",
              "      flex-wrap:wrap;\n",
              "      gap: 12px;\n",
              "    }\n",
              "\n",
              "    .colab-df-convert {\n",
              "      background-color: #E8F0FE;\n",
              "      border: none;\n",
              "      border-radius: 50%;\n",
              "      cursor: pointer;\n",
              "      display: none;\n",
              "      fill: #1967D2;\n",
              "      height: 32px;\n",
              "      padding: 0 0 0 0;\n",
              "      width: 32px;\n",
              "    }\n",
              "\n",
              "    .colab-df-convert:hover {\n",
              "      background-color: #E2EBFA;\n",
              "      box-shadow: 0px 1px 2px rgba(60, 64, 67, 0.3), 0px 1px 3px 1px rgba(60, 64, 67, 0.15);\n",
              "      fill: #174EA6;\n",
              "    }\n",
              "\n",
              "    [theme=dark] .colab-df-convert {\n",
              "      background-color: #3B4455;\n",
              "      fill: #D2E3FC;\n",
              "    }\n",
              "\n",
              "    [theme=dark] .colab-df-convert:hover {\n",
              "      background-color: #434B5C;\n",
              "      box-shadow: 0px 1px 3px 1px rgba(0, 0, 0, 0.15);\n",
              "      filter: drop-shadow(0px 1px 2px rgba(0, 0, 0, 0.3));\n",
              "      fill: #FFFFFF;\n",
              "    }\n",
              "  </style>\n",
              "\n",
              "      <script>\n",
              "        const buttonEl =\n",
              "          document.querySelector('#df-57e55fc9-bb0d-4647-b178-a81f9c9370fa button.colab-df-convert');\n",
              "        buttonEl.style.display =\n",
              "          google.colab.kernel.accessAllowed ? 'block' : 'none';\n",
              "\n",
              "        async function convertToInteractive(key) {\n",
              "          const element = document.querySelector('#df-57e55fc9-bb0d-4647-b178-a81f9c9370fa');\n",
              "          const dataTable =\n",
              "            await google.colab.kernel.invokeFunction('convertToInteractive',\n",
              "                                                     [key], {});\n",
              "          if (!dataTable) return;\n",
              "\n",
              "          const docLinkHtml = 'Like what you see? Visit the ' +\n",
              "            '<a target=\"_blank\" href=https://colab.research.google.com/notebooks/data_table.ipynb>data table notebook</a>'\n",
              "            + ' to learn more about interactive tables.';\n",
              "          element.innerHTML = '';\n",
              "          dataTable['output_type'] = 'display_data';\n",
              "          await google.colab.output.renderOutput(dataTable, element);\n",
              "          const docLink = document.createElement('div');\n",
              "          docLink.innerHTML = docLinkHtml;\n",
              "          element.appendChild(docLink);\n",
              "        }\n",
              "      </script>\n",
              "    </div>\n",
              "  </div>\n",
              "  "
            ]
          },
          "metadata": {},
          "execution_count": 56
        }
      ]
    },
    {
      "cell_type": "markdown",
      "source": [
        "Extract x and y"
      ],
      "metadata": {
        "id": "z-CmV7d1b0FA"
      }
    },
    {
      "cell_type": "code",
      "source": [
        "y = df['Salary']\n",
        "x = df.drop(columns = \"Salary\")\n",
        "\n",
        "# creating polynomial power till order 4\n",
        "order = 5\n",
        "for i in range(order):\n",
        "    x['Level' + str(i)] = x[\"Level\"] ** i\n",
        "\n",
        "plt.scatter(x['Level'], y)\n",
        "plt.xlabel(\"Value of x\")\n",
        "plt.ylabel(\"Value of y\")\n",
        "plt.show()\n",
        "print(\"X: \", x)\n",
        "print(\"Y:\\tSalary\\n\", y)\n",
        "\n",
        "# taking only values\n",
        "x = x.iloc[:, :].values\n",
        "y = y.values"
      ],
      "metadata": {
        "colab": {
          "base_uri": "https://localhost:8080/",
          "height": 689
        },
        "id": "Bk9QEPKrb6ba",
        "outputId": "08457130-3ea7-4b6a-8025-c0f7ae933ae8"
      },
      "execution_count": 79,
      "outputs": [
        {
          "output_type": "display_data",
          "data": {
            "text/plain": [
              "<Figure size 432x288 with 1 Axes>"
            ],
            "image/png": "[encoded data removed]"
          },
          "metadata": {
            "needs_background": "light"
          }
        },
        {
          "output_type": "stream",
          "name": "stdout",
          "text": [
            "X:     Level  Level0  Level1  Level2  Level3  Level4\n",
            "0      1       1       1       1       1       1\n",
            "1      2       1       2       4       8      16\n",
            "2      3       1       3       9      27      81\n",
            "3      4       1       4      16      64     256\n",
            "4      5       1       5      25     125     625\n",
            "5      6       1       6      36     216    1296\n",
            "6      7       1       7      49     343    2401\n",
            "7      8       1       8      64     512    4096\n",
            "8      9       1       9      81     729    6561\n",
            "9     10       1      10     100    1000   10000\n",
            "Y:\tSalary\n",
            " 0      45000\n",
            "1      50000\n",
            "2      60000\n",
            "3      80000\n",
            "4     110000\n",
            "5     150000\n",
            "6     200000\n",
            "7     300000\n",
            "8     500000\n",
            "9    1000000\n",
            "Name: Salary, dtype: int64\n"
          ]
        }
      ]
    },
    {
      "cell_type": "markdown",
      "source": [
        "Cost function"
      ],
      "metadata": {
        "id": "NLdrXyRFfVJp"
      }
    },
    {
      "cell_type": "code",
      "source": [
        "def costCalculation(x, y, w, b):\n",
        "    cost = np.sum((y - x.dot(w) - b) ** 2)\n",
        "    return 2 * cost / len(y)"
      ],
      "metadata": {
        "id": "mVXMz9VEfYzi"
      },
      "execution_count": 80,
      "outputs": []
    },
    {
      "cell_type": "markdown",
      "source": [
        "Gradiant Descent"
      ],
      "metadata": {
        "id": "2P3NgfF1f7Wl"
      }
    },
    {
      "cell_type": "code",
      "source": [
        "def lossCalculation(x, y, w, b):\n",
        "    loss = y - x.dot(w) - b\n",
        "    return loss\n",
        "\n",
        "def gradiantDescent(x, y, w, b, learning_rate, epochs):\n",
        "    cost_list = [0] * epochs\n",
        "    for epoch in range(epochs):\n",
        "        n = len(y)\n",
        "        w_grad = (-1 / n) * x.T.dot(lossCalculation(x, y, w, b))\n",
        "        b_grad = (-1 / n) * np.sum(lossCalculation(x, y, w, b))\n",
        "\n",
        "        w = w - learning_rate * w_grad\n",
        "        b = b - learning_rate * b_grad\n",
        "        # print(w_grad)\n",
        "\n",
        "        cost = costCalculation(x, y, w, b)\n",
        "        cost_list[epoch] = cost\n",
        "        if epoch % 500 == 0:\n",
        "            print(f\"Epoch: {epoch} --> Cost: {cost}\")\n",
        "        \n",
        "    return w, b, cost_list\n",
        "w, b, learning_rate, epochs = np.zeros(x.shape[1]), 0, 0.00000005, 10000\n",
        "w, b, cost_list = gradiantDescent(x, y, w, b, learning_rate, epochs)\n",
        "print(\"W: \", w, \"B: \", b)"
      ],
      "metadata": {
        "colab": {
          "base_uri": "https://localhost:8080/"
        },
        "id": "FjFAgNcRf9GN",
        "outputId": "fbbfae49-696f-4ad2-c969-af7890c52017"
      },
      "execution_count": 82,
      "outputs": [
        {
          "output_type": "stream",
          "name": "stdout",
          "text": [
            "Epoch: 0 --> Cost: 13885607540.508682\n",
            "Epoch: 500 --> Cost: 7450895771.815971\n",
            "Epoch: 1000 --> Cost: 7409096281.857678\n",
            "Epoch: 1500 --> Cost: 7372981372.415884\n",
            "Epoch: 2000 --> Cost: 7341730061.526227\n",
            "Epoch: 2500 --> Cost: 7314639956.485846\n",
            "Epoch: 3000 --> Cost: 7291110123.854616\n",
            "Epoch: 3500 --> Cost: 7270626433.852984\n",
            "Epoch: 4000 --> Cost: 7252749021.73432\n",
            "Epoch: 4500 --> Cost: 7237101560.338735\n",
            "Epoch: 5000 --> Cost: 7223362082.206659\n",
            "Epoch: 5500 --> Cost: 7211255127.420995\n",
            "Epoch: 6000 --> Cost: 7200545025.678986\n",
            "Epoch: 6500 --> Cost: 7191030148.756251\n",
            "Epoch: 7000 --> Cost: 7182537993.191782\n",
            "Epoch: 7500 --> Cost: 7174920973.269963\n",
            "Epoch: 8000 --> Cost: 7168052821.698496\n",
            "Epoch: 8500 --> Cost: 7161825510.20175\n",
            "Epoch: 9000 --> Cost: 7156146614.928694\n",
            "Epoch: 9500 --> Cost: 7150937062.422693\n",
            "W:  [  22.12934611   10.91877715   22.12934611   15.90417335 -180.34053402\n",
            "  110.28049516] B:  10.918777153350762\n"
          ]
        }
      ]
    },
    {
      "cell_type": "markdown",
      "source": [
        "Ploting cost list"
      ],
      "metadata": {
        "id": "XzsquVni9X78"
      }
    },
    {
      "cell_type": "code",
      "source": [
        "plt.plot(cost_list)\n",
        "plt.xlabel(\"Epochs\")\n",
        "plt.ylabel(\"Cost\")\n",
        "plt.show()"
      ],
      "metadata": {
        "colab": {
          "base_uri": "https://localhost:8080/",
          "height": 290
        },
        "id": "ukCnq4IQ9ahx",
        "outputId": "1c0c27da-1162-46e7-8cb0-d92f1e6dfa2a"
      },
      "execution_count": 83,
      "outputs": [
        {
          "output_type": "display_data",
          "data": {
            "text/plain": [
              "<Figure size 432x288 with 1 Axes>"
            ],
            "image/png": "[encoded data removed]"
          },
          "metadata": {
            "needs_background": "light"
          }
        }
      ]
    },
    {
      "cell_type": "markdown",
      "source": [
        "Predic values"
      ],
      "metadata": {
        "id": "qGk4e_s6-hiO"
      }
    },
    {
      "cell_type": "code",
      "source": [
        "def prediction(x, w, b):\n",
        "    return x.dot(w) + b\n",
        "\n",
        "y_predicted = prediction(x, w, b)\n",
        "# predicted graph\n",
        "plt.plot(df['Level'].values, y_predicted)\n",
        "# actual y graph\n",
        "plt.plot(df[\"Level\"].values, y, color = 'red', marker = '.')\n",
        "plt.xlabel(\"Level\")\n",
        "plt.ylabel(\"Salary\")\n",
        "plt.show()"
      ],
      "metadata": {
        "colab": {
          "base_uri": "https://localhost:8080/",
          "height": 290
        },
        "id": "HpwoevNX-mMQ",
        "outputId": "d58536dd-30ff-4321-aa3b-472ed426505e"
      },
      "execution_count": 84,
      "outputs": [
        {
          "output_type": "display_data",
          "data": {
            "text/plain": [
              "<Figure size 432x288 with 1 Axes>"
            ],
            "image/png": "[encoded data removed]"
          },
          "metadata": {
            "needs_background": "light"
          }
        }
      ]
    }
  ]
}